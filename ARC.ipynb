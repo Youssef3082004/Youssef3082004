{
 "cells": [
  {
   "cell_type": "code",
   "execution_count": 2,
   "metadata": {},
   "outputs": [
    {
     "name": "stdout",
     "output_type": "stream",
     "text": [
      "Register Content = []\n",
      "1.Load Data\n",
      "2.shift left\n",
      "3.Shift Right\n",
      "4.Shift circulate\n",
      "5.Complement\n",
      "6.Reset\n"
     ]
    }
   ],
   "source": [
    "Bits = []\n",
    "\n",
    "print(f\"Register Content = {Bits}\")\n",
    "print(\"1.Load Data\")\n",
    "print(\"2.shift left\")\n",
    "print(\"3.Shift Right\")\n",
    "print(\"4.Shift circulate\")\n",
    "print(\"5.Complement\")\n",
    "print(\"6.Reset\")"
   ]
  },
  {
   "cell_type": "code",
   "execution_count": 5,
   "metadata": {},
   "outputs": [
    {
     "data": {
      "text/plain": [
       "[1, 0, 1, 0, 1, 0]"
      ]
     },
     "execution_count": 5,
     "metadata": {},
     "output_type": "execute_result"
    }
   ],
   "source": [
    "# Load data \n",
    "\n",
    "data = input(\"Enter data from 8 Bit:\")\n",
    "Bits.clear()\n",
    "for x in data:\n",
    "    Bits.append(int(x))\n",
    "Bits\n",
    "\n",
    " \n"
   ]
  },
  {
   "cell_type": "code",
   "execution_count": 8,
   "metadata": {},
   "outputs": [
    {
     "data": {
      "text/plain": [
       "[11, 11, 11, 11, 1, 1]"
      ]
     },
     "execution_count": 8,
     "metadata": {},
     "output_type": "execute_result"
    }
   ],
   "source": [
    "# Shift Right\n",
    "N_shifts = int(input(\"Number of Shifts:\"))\n",
    "for x in range(N_shifts):\n",
    "    Number = int(input(\"0 or 1:\"))\n",
    "    Bits.insert(x,Number)\n",
    "    Bits.pop(-1)\n",
    "Bits\n",
    "\n"
   ]
  },
  {
   "cell_type": "code",
   "execution_count": 4,
   "metadata": {},
   "outputs": [
    {
     "name": "stdout",
     "output_type": "stream",
     "text": [
      "[1, 0, 1, 0, 1, 0]\n"
     ]
    }
   ],
   "source": [
    "print(Bits)"
   ]
  },
  {
   "cell_type": "code",
   "execution_count": 16,
   "metadata": {},
   "outputs": [
    {
     "data": {
      "text/plain": [
       "[0, 0, 0, 0, 1, 1, 1]"
      ]
     },
     "execution_count": 16,
     "metadata": {},
     "output_type": "execute_result"
    }
   ],
   "source": [
    "# Shift left\n",
    "\n",
    "N_shifts = int(input(\"Number of Shifts:\"))\n",
    "\n",
    "for x in range(1,N_shifts+1):\n",
    "    Number = int(input(\"0 or 1:\"))\n",
    "    Bits.append(Number)\n",
    "    Bits.pop(0)\n",
    "Bits"
   ]
  },
  {
   "cell_type": "code",
   "execution_count": 17,
   "metadata": {},
   "outputs": [
    {
     "data": {
      "text/plain": [
       "[0, 0, 0, 0, 1, 1, 1]"
      ]
     },
     "execution_count": 17,
     "metadata": {},
     "output_type": "execute_result"
    }
   ],
   "source": [
    "Bits"
   ]
  },
  {
   "cell_type": "code",
   "execution_count": null,
   "metadata": {},
   "outputs": [
    {
     "data": {
      "text/plain": [
       "[0, 0, 0, 0, 0, 0, 0, 0]"
      ]
     },
     "execution_count": 7,
     "metadata": {},
     "output_type": "execute_result"
    }
   ],
   "source": [
    "# clear\n",
    "Bits.clear()\n",
    "Bits = [0]*8\n",
    "Bits"
   ]
  },
  {
   "cell_type": "code",
   "execution_count": 29,
   "metadata": {},
   "outputs": [
    {
     "data": {
      "text/plain": [
       "[0, 1, 0, 1]"
      ]
     },
     "execution_count": 29,
     "metadata": {},
     "output_type": "execute_result"
    }
   ],
   "source": [
    "# complemnt \n",
    "for x in range(len(Bits)):\n",
    "    if Bits[x] == 0 :\n",
    "        Bits[x] = 1\n",
    "    else:\n",
    "         Bits[x] = 0\n",
    "Bits\n",
    "        "
   ]
  },
  {
   "cell_type": "code",
   "execution_count": 18,
   "metadata": {},
   "outputs": [
    {
     "data": {
      "text/plain": [
       "[0, 0, 0, 0, 1, 1, 1]"
      ]
     },
     "execution_count": 18,
     "metadata": {},
     "output_type": "execute_result"
    }
   ],
   "source": [
    "Bits"
   ]
  },
  {
   "cell_type": "code",
   "execution_count": 19,
   "metadata": {},
   "outputs": [
    {
     "data": {
      "text/plain": [
       "[1, 1, 0, 0, 0, 0, 1]"
      ]
     },
     "execution_count": 19,
     "metadata": {},
     "output_type": "execute_result"
    }
   ],
   "source": [
    "# Shift Right Sicuralte \n",
    "N_shifts = int(input(\"Number of Shifts:\"))\n",
    "for x in range(N_shifts):\n",
    "        last = Bits[-1]\n",
    "        Bits.insert(0,last)\n",
    "        Bits.pop(-1)\n",
    "Bits\n",
    "\n"
   ]
  },
  {
   "cell_type": "code",
   "execution_count": 20,
   "metadata": {},
   "outputs": [
    {
     "data": {
      "text/plain": [
       "[0, 0, 0, 0, 1, 1, 1]"
      ]
     },
     "execution_count": 20,
     "metadata": {},
     "output_type": "execute_result"
    }
   ],
   "source": [
    "# Shift left Circulate\n",
    "N_shifts = int(input(\"Number of Shifts:\"))\n",
    "for x in range(N_shifts):\n",
    "        First = Bits[0]\n",
    "        Bits.append(First)\n",
    "        Bits.pop(0)\n",
    "Bits"
   ]
  },
  {
   "cell_type": "code",
   "execution_count": 32,
   "metadata": {},
   "outputs": [
    {
     "ename": "TypeError",
     "evalue": "int() argument must be a string, a bytes-like object or a real number, not 'list'",
     "output_type": "error",
     "traceback": [
      "\u001b[1;31m---------------------------------------------------------------------------\u001b[0m",
      "\u001b[1;31mTypeError\u001b[0m                                 Traceback (most recent call last)",
      "Cell \u001b[1;32mIn[32], line 3\u001b[0m\n\u001b[0;32m      1\u001b[0m number \u001b[38;5;241m=\u001b[39m \u001b[38;5;241m123\u001b[39m\n\u001b[0;32m      2\u001b[0m digit_list \u001b[38;5;241m=\u001b[39m \u001b[38;5;28mlist\u001b[39m(\u001b[38;5;28mstr\u001b[39m(number))\n\u001b[1;32m----> 3\u001b[0m \u001b[38;5;28mprint\u001b[39m(\u001b[38;5;28;43mint\u001b[39;49m\u001b[43m(\u001b[49m\u001b[43mdigit_list\u001b[49m\u001b[43m)\u001b[49m)\n",
      "\u001b[1;31mTypeError\u001b[0m: int() argument must be a string, a bytes-like object or a real number, not 'list'"
     ]
    }
   ],
   "source": [
    "number = 123\n",
    "digit_list = list(str(number))\n",
    "print(digit_list)"
   ]
  },
  {
   "cell_type": "code",
   "execution_count": 37,
   "metadata": {},
   "outputs": [],
   "source": [
    "import tkinter as tk\n",
    "from tkinter import messagebox\n",
    "\n",
    "class ShiftLeftRegister:\n",
    "    def _init_(self, master):\n",
    "        self.master = master\n",
    "        master.title(\"Shift Left Register\")\n",
    "\n",
    "        self.register = [0, 0, 0, 0]  # Initial 4-bit register\n",
    "        self.label = tk.Label(master, text=\"Shift Left Register\", font=(\"Helvetica\", 16))\n",
    "        self.label.pack()\n",
    "\n",
    "        self.register_label = tk.Label(master, text=self.get_register_string(), font=(\"Helvetica\", 14))\n",
    "        self.register_label.pack()\n",
    "\n",
    "        self.input_label = tk.Label(master, text=\"Enter Bit (0 or 1):\", font=(\"Helvetica\", 12))\n",
    "        self.input_label.pack()\n",
    "\n",
    "        self.bit_entry = tk.Entry(master, font=(\"Helvetica\", 12))\n",
    "        self.bit_entry.pack()\n",
    "\n",
    "        self.shift_button = tk.Button(master, text=\"Shift Left\", command=self.shift_left, font=(\"Helvetica\", 12))\n",
    "        self.shift_button.pack()\n",
    "\n",
    "        self.reset_button = tk.Button(master, text=\"Reset Register\", command=self.reset_register, font=(\"Helvetica\", 12))\n",
    "        self.reset_button.pack()\n",
    "\n",
    "    def get_register_string(self):\n",
    "        return \"Register: \" + \"\".join(map(str, self.register))\n",
    "\n",
    "    def shift_left(self):\n",
    "        try:\n",
    "            bit = int(self.bit_entry.get())\n",
    "            if bit not in [0, 1]:\n",
    "                raise ValueError\n",
    "        except ValueError:\n",
    "            messagebox.showerror(\"Invalid Input\", \"Please enter a valid bit (0 or 1).\")\n",
    "            return\n",
    "\n",
    "        # Shift left and insert the new bit\n",
    "        self.register.pop(0)\n",
    "        self.register.append(bit)\n",
    "        self.register_label.config(text=self.get_register_string())\n",
    "        self.bit_entry.delete(0, tk.END)\n",
    "\n",
    "    def reset_register(self):\n",
    "        self.register = [0, 0, 0, 0]\n",
    "        self.register_label.config(text=self.get_register_string())\n",
    "\n",
    "\n",
    "root = tk.Tk()\n",
    "app = ShiftLeftRegister()\n",
    "root.mainloop()\n"
   ]
  }
 ],
 "metadata": {
  "kernelspec": {
   "display_name": "Python 3",
   "language": "python",
   "name": "python3"
  },
  "language_info": {
   "codemirror_mode": {
    "name": "ipython",
    "version": 3
   },
   "file_extension": ".py",
   "mimetype": "text/x-python",
   "name": "python",
   "nbconvert_exporter": "python",
   "pygments_lexer": "ipython3",
   "version": "3.10.11"
  }
 },
 "nbformat": 4,
 "nbformat_minor": 2
}
