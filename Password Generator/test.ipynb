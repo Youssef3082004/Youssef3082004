{
 "cells": [
  {
   "cell_type": "code",
   "execution_count": 2,
   "metadata": {},
   "outputs": [
    {
     "name": "stdout",
     "output_type": "stream",
     "text": [
      "3\n"
     ]
    }
   ],
   "source": [
    "import json\n",
    "\n",
    "def Save(name_:str,link_:str,password_:str):\n",
    "\n",
    "    passwords_list = []\n",
    "    with open(\"D:\\\\Python\\\\Flet - Cross Platform\\\\2.Password_generator\\\\Passwords.json\",\"r\") as file:\n",
    "        passwords = json.load(file)\n",
    "    with open(\"D:\\\\Python\\\\Flet - Cross Platform\\\\2.Password_generator\\\\Passwords.json\",\"w+\") as file:\n",
    "        try: \n",
    "            for password in passwords[\"passwords\"]:\n",
    "                passwords_list.append(password)\n",
    "            passwords_list.append({\"name\":name_,\"link\":link_,\"password\":password_})\n",
    "            \n",
    "        except:\n",
    "            passwords_list.append({\"name\":name_,\"link\":link_,\"password\":password_})\n",
    "        name = dict(passwords = passwords_list, youssef = \"20\")\n",
    "        json.dump(name,file,indent=2)\n",
    "            \n",
    "    print(len(passwords_list)) \n",
    "    \n",
    "\n",
    "        \n",
    "Save(\"dbasha864@gmail.com\",\"www.gmail.com\",\"@youssef2004\")\n"
   ]
  },
  {
   "cell_type": "code",
   "execution_count": 49,
   "metadata": {},
   "outputs": [
    {
     "name": "stdout",
     "output_type": "stream",
     "text": [
      "Facebook = www.facebo.com = 12kgjhkfoslsowkdk\n",
      "dbasha864@gmail.com = www.gmail.com = @youssef2004\n",
      "dbasha864@gmail.com = www.gmail.com = @youssef2004\n",
      "dbasha864@gmail.com = www.gmail.com = @youssef2004\n"
     ]
    }
   ],
   "source": [
    "import json\n",
    "with open(\"D:\\\\Python\\\\Flet - Cross Platform\\\\2.Password_generator\\\\Passwords.json\",\"r\") as file:\n",
    "        passwords = json.load(file)\n",
    "        for x in range(len(passwords[\"passwords\"])):\n",
    "                print(passwords[\"passwords\"][x][\"name\"],end=\" = \")\n",
    "                print(passwords[\"passwords\"][x][\"link\"],end=\" = \")\n",
    "                print(passwords[\"passwords\"][x]['password'])\n"
   ]
  },
  {
   "cell_type": "code",
   "execution_count": 18,
   "metadata": {},
   "outputs": [],
   "source": [
    "import json\n",
    "def Passwords_list():\n",
    "    with open(\"D:\\\\Python\\\\Flet - Cross Platform\\\\2.Password_generator\\\\Passwords.json\",\"r\") as file:\n",
    "            passwords_list = []\n",
    "            passwords = json.load(file)\n",
    "            for x in range(len(passwords[\"passwords\"])):\n",
    "                    (A:=passwords[\"passwords\"][x][\"name\"])\n",
    "                    (B:=passwords[\"passwords\"][x][\"link\"])\n",
    "                    (C:=passwords[\"passwords\"][x]['password'])\n",
    "                    passwords_list.append([A,B,C])\n",
    "    return passwords_list\n",
    "\n",
    "\n",
    "\n",
    "def delete(index:int):\n",
    "    list_1 = Passwords_list()\n",
    "    edit_list = []\n",
    "    list_1.pop(index)\n",
    "    for A,B,C  in list_1:\n",
    "        \n",
    "        edit_list.append({\"name\":A,\"link\":B,\"password\":C})\n",
    "    name = dict(passwords = edit_list, youssef = \"20\")\n",
    "    with open(\"D:\\\\Python\\\\Flet - Cross Platform\\\\2.Password_generator\\\\Passwords.json\",\"w+\") as file:\n",
    "        json.dump(name,file,indent=2)\n"
   ]
  }
 ],
 "metadata": {
  "kernelspec": {
   "display_name": "Python 3",
   "language": "python",
   "name": "python3"
  },
  "language_info": {
   "codemirror_mode": {
    "name": "ipython",
    "version": 3
   },
   "file_extension": ".py",
   "mimetype": "text/x-python",
   "name": "python",
   "nbconvert_exporter": "python",
   "pygments_lexer": "ipython3",
   "version": "3.12.6"
  }
 },
 "nbformat": 4,
 "nbformat_minor": 2
}
